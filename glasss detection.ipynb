{
 "cells": [
  {
   "cell_type": "code",
   "execution_count": null,
   "metadata": {},
   "outputs": [],
   "source": [
    "import cv2\n",
    "import matplotlib.pyplot as plt\n",
    "import numpy as np\n",
    "\n",
    "face_cascade=  cv2.CascadeClassifier(r'C:\\Users\\HARSH SONI\\Desktop\\background\\haarcascade_frontalface_default.xml')\n",
    "\n",
    "eye_cascade= cv2.CascadeClassifier(r'C:\\Users\\HARSH SONI\\Desktop\\background\\haarcascade_eye_tree_eyeglasses.xml')\n",
    "\n",
    "glass_cascade= cv2.CascadeClassifier(r'C:\\Users\\HARSH SONI\\Desktop\\background\\glasses_cascade.xml')\n",
    "\n",
    "cap= cv2.VideoCapture(0)\n",
    "ret,img = cap.read()\n",
    "while True:\n",
    "        \n",
    "        ret,img = cap.read() \n",
    "        gray = cv2.cvtColor(img,cv2.COLOR_BGR2GRAY)\n",
    "        faces = face_cascade.detectMultiScale(gray, 1.3, 5)\n",
    "\n",
    "        for (x,y,w,h) in faces:\n",
    "                cv2.rectangle(img,(x,y),(x+w,y+h),(255,0,0),2)\n",
    "                roi_gray = gray[y:y+h, x:x+w]\n",
    "                roi_color = img[y:y+h, x:x+w]\n",
    "\n",
    "                eyes = eye_cascade.detectMultiScale(roi_gray,1.3,5)\n",
    "                for (ex,ey,ew,eh) in eyes:\n",
    "                        cv2.rectangle(roi_color,(ex,ey),(ex+ew,ey+eh),(0,255,0),2)\n",
    "\n",
    "                edges = cv2.Canny(roi_gray,100,200)\n",
    "                glass = glass_cascade.detectMultiScale(roi_gray,1.04,5)\n",
    "                      \n",
    "                for(gx,gy,gw,gh) in glass:\n",
    "                        font = cv2.FONT_HERSHEY_SIMPLEX\n",
    "                        cv2.rectangle(roi_color, (gx,gy),(gx+gw, gy+gh), (255,255,0), 2)\n",
    "                        cv2.putText(roi_color,'glass',(gx,gy-3), font, 0.5, (11,255,255), 2, cv2.LINE_AA)\n",
    "                               \n",
    "        \n",
    "        cv2.imshow('img',img)\n",
    "        k= cv2.waitKey(30) & 0xff\n",
    "        if k ==27:\n",
    "                break\n",
    "                       \n",
    "               \n",
    "cap.release()\n",
    "\n",
    "cv2.destroyAllWindows()\n"
   ]
  },
  {
   "cell_type": "code",
   "execution_count": null,
   "metadata": {},
   "outputs": [],
   "source": []
  }
 ],
 "metadata": {
  "kernelspec": {
   "display_name": "Python 3",
   "language": "python",
   "name": "python3"
  },
  "language_info": {
   "codemirror_mode": {
    "name": "ipython",
    "version": 3
   },
   "file_extension": ".py",
   "mimetype": "text/x-python",
   "name": "python",
   "nbconvert_exporter": "python",
   "pygments_lexer": "ipython3",
   "version": "3.7.0"
  }
 },
 "nbformat": 4,
 "nbformat_minor": 2
}
